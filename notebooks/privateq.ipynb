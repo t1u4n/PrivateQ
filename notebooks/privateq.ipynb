{
 "cells": [
  {
   "cell_type": "markdown",
   "metadata": {},
   "source": [
    "# PrivateQ"
   ]
  },
  {
   "cell_type": "markdown",
   "metadata": {},
   "source": [
    "## Set-up\n",
    "\n",
    "Import necessary libraries and configurations"
   ]
  },
  {
   "cell_type": "code",
   "execution_count": null,
   "metadata": {},
   "outputs": [],
   "source": [
    "# Set up\n",
    "import os\n",
    "import sys; sys.path.append(\"..\")\n",
    "import warnings; warnings.filterwarnings(\"ignore\")\n",
    "\n",
    "from dotenv import load_dotenv; load_dotenv()\n",
    "\n",
    "import ray"
   ]
  },
  {
   "cell_type": "code",
   "execution_count": null,
   "metadata": {},
   "outputs": [],
   "source": [
    "from privateq.config import ROOT_DIR\n",
    "\n",
    "# Set up ray with credentials and start ray\n",
    "ray.init(runtime_env={\n",
    "    \"env_vars\": {\n",
    "        \"OPENAI_API_BASE\": os.environ[\"OPENAI_API_BASE\"],\n",
    "        \"OPENAI_API_KEY\": os.environ[\"OPENAI_API_KEY\"], \n",
    "    },\n",
    "    \"working_dir\": str(ROOT_DIR)\n",
    "})\n",
    "\n",
    "# Show resources\n",
    "ray.cluster_resources()"
   ]
  },
  {
   "cell_type": "markdown",
   "metadata": {},
   "source": [
    "## Data Preparation\n",
    "\n",
    "Load, chunk, embed and index data"
   ]
  },
  {
   "cell_type": "code",
   "execution_count": null,
   "metadata": {},
   "outputs": [],
   "source": [
    "# Import model parameters\n",
    "from privateq.config import EMBEDDING_DIMENSIONS, MAX_CONTENT_LENGTH\n",
    "\n",
    "print(f'EMBEDDING_DIMENSIONS: {EMBEDDING_DIMENSIONS}\\nMAX_CONTENT_LENGTH: {MAX_CONTENT_LENGTH}')"
   ]
  },
  {
   "cell_type": "code",
   "execution_count": null,
   "metadata": {},
   "outputs": [],
   "source": [
    "# Load Data using Ray\n",
    "\n",
    "from pathlib import Path\n",
    "from privateq.config import FILE_DIR\n",
    "\n",
    "# Find documents\n",
    "DOCS_DIR = Path(FILE_DIR, os.environ.get(\"DOCS_DIR\"))\n",
    "print(f'DOCS_DIR: {DOCS_DIR}')\n",
    "assert DOCS_DIR.exists(), f'{DOCS_DIR} does not exist.'\n",
    "\n",
    "# Filter out html files and load them as ray dataset\n",
    "ds = ray.data.from_items([{\"path\": path} for path in DOCS_DIR.rglob(\"*.html\") if not path.is_dir()])\n",
    "print(f\"{ds.count()} documents\")"
   ]
  },
  {
   "cell_type": "code",
   "execution_count": null,
   "metadata": {},
   "outputs": [],
   "source": [
    "\"\"\"\n",
    "Extract content from dataset, identify sections in html pages \n",
    "and extract text between them. Then save all of them to a list\n",
    "of dictionaries that map text of a section to a specific url \n",
    "with specific anchor id.\n",
    "\"\"\"\n",
    "from privateq.data_process import extract_sections\n",
    "import matplotlib.pyplot as plt\n",
    "\n",
    "# Sample extraction process\n",
    "# sample_html_fp = Path(FILE_DIR, \"docs.ray.io/en/master/rllib/rllib-env.html\")\n",
    "# extract_sections({\"path\": sample_html_fp})[0]\n",
    "\n",
    "# Extract sections from dataset\n",
    "sections_ds = ds.flat_map(extract_sections)\n",
    "print(f'Sections Count: {sections_ds.count()}')"
   ]
  },
  {
   "cell_type": "code",
   "execution_count": null,
   "metadata": {},
   "outputs": [],
   "source": [
    "# Plot section lengths to observe the dataset\n",
    "section_lengths = []\n",
    "for section in sections_ds.take_all():\n",
    "    section_lengths.append(len(section[\"text\"]))\n",
    "\n",
    "plt.figure(figsize=(12, 3))\n",
    "plt.plot(section_lengths, marker='x', color='g')\n",
    "plt.title(\"Section Lengths\")\n",
    "plt.ylabel(\"# of characters\")\n",
    "plt.show()"
   ]
  },
  {
   "cell_type": "code",
   "execution_count": null,
   "metadata": {},
   "outputs": [],
   "source": [
    "# Shutdown Ray to clean resources\n",
    "ray.shutdown()"
   ]
  },
  {
   "cell_type": "code",
   "execution_count": null,
   "metadata": {},
   "outputs": [],
   "source": []
  }
 ],
 "metadata": {
  "kernelspec": {
   "display_name": "Python 3",
   "language": "python",
   "name": "python3"
  },
  "language_info": {
   "codemirror_mode": {
    "name": "ipython",
    "version": 3
   },
   "file_extension": ".py",
   "mimetype": "text/x-python",
   "name": "python",
   "nbconvert_exporter": "python",
   "pygments_lexer": "ipython3",
   "version": "3.11.6"
  }
 },
 "nbformat": 4,
 "nbformat_minor": 2
}
