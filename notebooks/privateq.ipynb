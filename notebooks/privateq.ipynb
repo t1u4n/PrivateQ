{
 "cells": [
  {
   "cell_type": "markdown",
   "metadata": {},
   "source": [
    "# PrivateQ"
   ]
  },
  {
   "cell_type": "markdown",
   "metadata": {},
   "source": [
    "## Set-up\n",
    "\n",
    "Import necessary libraries and configurations"
   ]
  },
  {
   "cell_type": "code",
   "execution_count": 1,
   "metadata": {},
   "outputs": [],
   "source": [
    "# Set up\n",
    "import os\n",
    "import sys; sys.path.append(\"..\")\n",
    "import warnings; warnings.filterwarnings(\"ignore\")\n",
    "\n",
    "from dotenv import load_dotenv; load_dotenv()\n",
    "\n",
    "import ray"
   ]
  },
  {
   "cell_type": "code",
   "execution_count": 2,
   "metadata": {},
   "outputs": [
    {
     "name": "stderr",
     "output_type": "stream",
     "text": [
      "2024-01-01 13:27:03,967\tINFO worker.py:1715 -- Started a local Ray instance. View the dashboard at \u001b[1m\u001b[32mhttp://127.0.0.1:8265 \u001b[39m\u001b[22m\n",
      "2024-01-01 13:27:03,985\tINFO packaging.py:530 -- Creating a file package for local directory '/Users/tiluan/git/privateq'.\n",
      "2024-01-01 13:27:03,991\tINFO packaging.py:358 -- Pushing file package 'gcs://_ray_pkg_d6d5776466f04af5.zip' (0.04MiB) to Ray cluster...\n",
      "2024-01-01 13:27:04,007\tINFO packaging.py:371 -- Successfully pushed file package 'gcs://_ray_pkg_d6d5776466f04af5.zip'.\n"
     ]
    },
    {
     "data": {
      "text/plain": [
       "{'memory': 3153867572.0,\n",
       " 'node:127.0.0.1': 1.0,\n",
       " 'CPU': 8.0,\n",
       " 'object_store_memory': 1576933785.0,\n",
       " 'node:__internal_head__': 1.0}"
      ]
     },
     "execution_count": 2,
     "metadata": {},
     "output_type": "execute_result"
    }
   ],
   "source": [
    "from privateq.config import ROOT_DIR\n",
    "\n",
    "# Set up ray with credentials and start ray\n",
    "ray.init(runtime_env={\n",
    "    \"env_vars\": {\n",
    "        \"OPENAI_API_BASE\": os.environ[\"OPENAI_API_BASE\"],\n",
    "        \"OPENAI_API_KEY\": os.environ[\"OPENAI_API_KEY\"], \n",
    "    },\n",
    "    \"working_dir\": str(ROOT_DIR)\n",
    "})\n",
    "\n",
    "# Show resources\n",
    "ray.cluster_resources()"
   ]
  },
  {
   "cell_type": "markdown",
   "metadata": {},
   "source": [
    "## Data Preparation\n",
    "\n",
    "Load, chunk, embed and index data"
   ]
  },
  {
   "cell_type": "code",
   "execution_count": 3,
   "metadata": {},
   "outputs": [
    {
     "name": "stdout",
     "output_type": "stream",
     "text": [
      "EMBEDDING_DIMENSIONS: 768\n",
      "MAX_CONTENT_LENGTH: 8192\n"
     ]
    }
   ],
   "source": [
    "# Import model parameters\n",
    "from privateq.config import EMBEDDING_DIMENSIONS, MAX_CONTENT_LENGTH\n",
    "\n",
    "print(f'EMBEDDING_DIMENSIONS: {EMBEDDING_DIMENSIONS}\\nMAX_CONTENT_LENGTH: {MAX_CONTENT_LENGTH}')"
   ]
  },
  {
   "cell_type": "code",
   "execution_count": 4,
   "metadata": {},
   "outputs": [
    {
     "name": "stdout",
     "output_type": "stream",
     "text": [
      "DOCS_DIR: /Users/tiluan/git/.tmp/docs.ray.io/en/master\n",
      "1967 documents\n"
     ]
    }
   ],
   "source": [
    "# Load Data using Ray\n",
    "\n",
    "from pathlib import Path\n",
    "from privateq.config import FILE_DIR\n",
    "\n",
    "# Find documents\n",
    "DOCS_DIR = Path(FILE_DIR, os.environ.get(\"DOCS_DIR\"))\n",
    "print(f'DOCS_DIR: {DOCS_DIR}')\n",
    "assert DOCS_DIR.exists(), f'{DOCS_DIR} does not exist.'\n",
    "\n",
    "# Filter out html files and load them as ray dataset\n",
    "ds = ray.data.from_items([{\"path\": path} for path in DOCS_DIR.rglob(\"*.html\") if not path.is_dir()])\n",
    "print(f\"{ds.count()} documents\")"
   ]
  },
  {
   "cell_type": "code",
   "execution_count": 5,
   "metadata": {},
   "outputs": [
    {
     "ename": "ModuleNotFoundError",
     "evalue": "No module named 'bs4'",
     "output_type": "error",
     "traceback": [
      "\u001b[0;31m---------------------------------------------------------------------------\u001b[0m",
      "\u001b[0;31mModuleNotFoundError\u001b[0m                       Traceback (most recent call last)",
      "Cell \u001b[0;32mIn[5], line 8\u001b[0m\n\u001b[1;32m      1\u001b[0m \u001b[38;5;124;03m\"\"\"\u001b[39;00m\n\u001b[1;32m      2\u001b[0m \u001b[38;5;124;03mExtract content from dataset, identify sections in html pages \u001b[39;00m\n\u001b[1;32m      3\u001b[0m \u001b[38;5;124;03mand extract text between them. Then save all of them to a list\u001b[39;00m\n\u001b[1;32m      4\u001b[0m \u001b[38;5;124;03mof dictionaries that map text of a section to a specific url \u001b[39;00m\n\u001b[1;32m      5\u001b[0m \u001b[38;5;124;03mwith specific anchor id.\u001b[39;00m\n\u001b[1;32m      6\u001b[0m \u001b[38;5;124;03m\"\"\"\u001b[39;00m\n\u001b[0;32m----> 8\u001b[0m \u001b[38;5;28;01mfrom\u001b[39;00m \u001b[38;5;21;01mprivateq\u001b[39;00m\u001b[38;5;21;01m.\u001b[39;00m\u001b[38;5;21;01mdata_process\u001b[39;00m \u001b[38;5;28;01mimport\u001b[39;00m extract_sections\n\u001b[1;32m     10\u001b[0m sample_html_fp \u001b[38;5;241m=\u001b[39m Path(FILE_DIR, \u001b[38;5;124m\"\u001b[39m\u001b[38;5;124mdocs.ray.io/en/master/rllib/rllib-env.html\u001b[39m\u001b[38;5;124m\"\u001b[39m)\n\u001b[1;32m     11\u001b[0m extract_sections({\u001b[38;5;124m\"\u001b[39m\u001b[38;5;124mpath\u001b[39m\u001b[38;5;124m\"\u001b[39m: sample_html_fp})[\u001b[38;5;241m0\u001b[39m]\n",
      "File \u001b[0;32m~/git/privateq/notebooks/../privateq/data_process.py:2\u001b[0m\n\u001b[1;32m      1\u001b[0m \u001b[38;5;28;01mfrom\u001b[39;00m \u001b[38;5;21;01mpathlib\u001b[39;00m \u001b[38;5;28;01mimport\u001b[39;00m Path\n\u001b[0;32m----> 2\u001b[0m \u001b[38;5;28;01mfrom\u001b[39;00m \u001b[38;5;21;01mbs4\u001b[39;00m \u001b[38;5;28;01mimport\u001b[39;00m BeautifulSoup, NavigableString\n\u001b[1;32m      3\u001b[0m \u001b[38;5;28;01mfrom\u001b[39;00m \u001b[38;5;21;01mprivateq\u001b[39;00m\u001b[38;5;21;01m.\u001b[39;00m\u001b[38;5;21;01mconfig\u001b[39;00m \u001b[38;5;28;01mimport\u001b[39;00m FILE_DIR\n\u001b[1;32m      4\u001b[0m \u001b[38;5;28;01mfrom\u001b[39;00m \u001b[38;5;21;01mtyping\u001b[39;00m \u001b[38;5;28;01mimport\u001b[39;00m Dict, List\n",
      "\u001b[0;31mModuleNotFoundError\u001b[0m: No module named 'bs4'"
     ]
    }
   ],
   "source": [
    "\"\"\"\n",
    "Extract content from dataset, identify sections in html pages \n",
    "and extract text between them. Then save all of them to a list\n",
    "of dictionaries that map text of a section to a specific url \n",
    "with specific anchor id.\n",
    "\"\"\"\n",
    "import matplotlib.pyplot as plt\n",
    "from privateq.data_process import extract_sections\n",
    "\n",
    "sample_html_fp = Path(FILE_DIR, \"docs.ray.io/en/master/rllib/rllib-env.html\")\n",
    "extract_sections({\"path\": sample_html_fp})[0]"
   ]
  },
  {
   "cell_type": "code",
   "execution_count": 6,
   "metadata": {},
   "outputs": [],
   "source": [
    "# Shutdown Ray to clean resources\n",
    "ray.shutdown()"
   ]
  },
  {
   "cell_type": "code",
   "execution_count": null,
   "metadata": {},
   "outputs": [],
   "source": []
  }
 ],
 "metadata": {
  "kernelspec": {
   "display_name": "Python 3",
   "language": "python",
   "name": "python3"
  },
  "language_info": {
   "codemirror_mode": {
    "name": "ipython",
    "version": 3
   },
   "file_extension": ".py",
   "mimetype": "text/x-python",
   "name": "python",
   "nbconvert_exporter": "python",
   "pygments_lexer": "ipython3",
   "version": "3.11.6"
  }
 },
 "nbformat": 4,
 "nbformat_minor": 2
}
