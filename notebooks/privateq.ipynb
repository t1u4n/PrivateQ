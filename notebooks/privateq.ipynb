{
 "cells": [
  {
   "cell_type": "markdown",
   "metadata": {},
   "source": [
    "# PrivateQ"
   ]
  },
  {
   "cell_type": "code",
   "execution_count": 1,
   "metadata": {},
   "outputs": [],
   "source": [
    "# Set up\n",
    "import os\n",
    "import sys; sys.path.append(\"..\")\n",
    "import warnings; warnings.filterwarnings(\"ignore\")\n",
    "\n",
    "from dotenv import load_dotenv; load_dotenv()\n",
    "\n",
    "import ray"
   ]
  },
  {
   "cell_type": "code",
   "execution_count": 2,
   "metadata": {},
   "outputs": [
    {
     "name": "stderr",
     "output_type": "stream",
     "text": [
      "2023-12-31 19:35:50,960\tINFO worker.py:1715 -- Started a local Ray instance. View the dashboard at \u001b[1m\u001b[32mhttp://127.0.0.1:8265 \u001b[39m\u001b[22m\n",
      "2023-12-31 19:35:50,968\tINFO packaging.py:530 -- Creating a file package for local directory '/Users/tiluan/git/privateq'.\n",
      "2023-12-31 19:35:50,972\tINFO packaging.py:358 -- Pushing file package 'gcs://_ray_pkg_3cd9308e8687d82b.zip' (0.03MiB) to Ray cluster...\n",
      "2023-12-31 19:35:50,973\tINFO packaging.py:371 -- Successfully pushed file package 'gcs://_ray_pkg_3cd9308e8687d82b.zip'.\n"
     ]
    },
    {
     "data": {
      "text/plain": [
       "{'memory': 3118684571.0,\n",
       " 'node:__internal_head__': 1.0,\n",
       " 'CPU': 8.0,\n",
       " 'node:127.0.0.1': 1.0,\n",
       " 'object_store_memory': 1559342284.0}"
      ]
     },
     "execution_count": 2,
     "metadata": {},
     "output_type": "execute_result"
    }
   ],
   "source": [
    "from privateq.config import ROOT_DIR\n",
    "\n",
    "# Set up ray with credentials and start ray\n",
    "ray.init(runtime_env={\n",
    "    \"env_vars\": {\n",
    "        \"OPENAI_API_BASE\": os.environ[\"OPENAI_API_BASE\"],\n",
    "        \"OPENAI_API_KEY\": os.environ[\"OPENAI_API_KEY\"], \n",
    "    },\n",
    "    \"working_dir\": str(ROOT_DIR)\n",
    "})\n",
    "\n",
    "# Show resources\n",
    "ray.cluster_resources()"
   ]
  },
  {
   "cell_type": "code",
   "execution_count": 7,
   "metadata": {},
   "outputs": [
    {
     "name": "stdout",
     "output_type": "stream",
     "text": [
      "EMBEDDING_DIMENSIONS: 768\n",
      "MAX_CONTENT_LENGTH: 8192\n"
     ]
    }
   ],
   "source": [
    "# Import model parameters\n",
    "from privateq.config import EMBEDDING_DIMENSIONS, MAX_CONTENT_LENGTH\n",
    "\n",
    "print(f'EMBEDDING_DIMENSIONS: {EMBEDDING_DIMENSIONS}\\nMAX_CONTENT_LENGTH: {MAX_CONTENT_LENGTH}')"
   ]
  },
  {
   "cell_type": "code",
   "execution_count": 16,
   "metadata": {},
   "outputs": [],
   "source": [
    "# Shutdown Ray to clean resources\n",
    "ray.shutdown()"
   ]
  },
  {
   "cell_type": "code",
   "execution_count": null,
   "metadata": {},
   "outputs": [],
   "source": []
  }
 ],
 "metadata": {
  "kernelspec": {
   "display_name": "Python 3",
   "language": "python",
   "name": "python3"
  },
  "language_info": {
   "codemirror_mode": {
    "name": "ipython",
    "version": 3
   },
   "file_extension": ".py",
   "mimetype": "text/x-python",
   "name": "python",
   "nbconvert_exporter": "python",
   "pygments_lexer": "ipython3",
   "version": "3.11.6"
  }
 },
 "nbformat": 4,
 "nbformat_minor": 2
}
